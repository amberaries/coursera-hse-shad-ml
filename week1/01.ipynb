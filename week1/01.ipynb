{
 "cells": [
  {
   "cell_type": "code",
   "execution_count": 1,
   "metadata": {},
   "outputs": [],
   "source": [
    "import pandas\n",
    "data = pandas.read_csv('titanic.csv', index_col='PassengerId')"
   ]
  },
  {
   "cell_type": "code",
   "execution_count": 2,
   "metadata": {},
   "outputs": [],
   "source": [
    "import os\n",
    "\n",
    "def do_output(id: int, text: str) -> None:\n",
    "    if not os.path.exists(\"output\"):\n",
    "        os.makedirs(\"output\")\n",
    "        \n",
    "    with open(os.path.join(\"output\", f\"{id}.txt\"), \"w\") as file:\n",
    "        print(text, file=file, end='')"
   ]
  },
  {
   "cell_type": "code",
   "execution_count": 3,
   "metadata": {},
   "outputs": [],
   "source": [
    "assignment_1 = data['Sex'].value_counts()\n",
    "do_output(1, f\"{assignment_1['male']} {assignment_1['female']}\")"
   ]
  },
  {
   "cell_type": "code",
   "execution_count": 4,
   "metadata": {},
   "outputs": [],
   "source": [
    "assignment_2 = data['Survived'].value_counts()[1]/data.shape[0]*100\n",
    "do_output(2, f\"{assignment_2:.2f}\")"
   ]
  },
  {
   "cell_type": "code",
   "execution_count": 5,
   "metadata": {},
   "outputs": [],
   "source": [
    "assignment_3 = data['Pclass'].value_counts()[1]/data.shape[0]*100\n",
    "do_output(3, f\"{assignment_3:.2f}\")"
   ]
  },
  {
   "cell_type": "code",
   "execution_count": 6,
   "metadata": {},
   "outputs": [],
   "source": [
    "assignment_4 = data['Age'].dropna()\n",
    "do_output(4, f\"{assignment_4.mean():.2f} {assignment_4.median():.2f}\")"
   ]
  },
  {
   "cell_type": "code",
   "execution_count": 7,
   "metadata": {},
   "outputs": [],
   "source": [
    "assignment_5 = data['SibSp'].corr(data['Parch'])\n",
    "do_output(5, f\"{assignment_5:.2f}\")"
   ]
  },
  {
   "cell_type": "code",
   "execution_count": 8,
   "metadata": {},
   "outputs": [],
   "source": [
    "import re\n",
    "def cleanup(name: str) -> str:\n",
    "    tmp = re.search(\"^[^,]+, (.*)\", name)\n",
    "    if tmp:\n",
    "        name = tmp[1]\n",
    "    tmp = re.search(\"\\(([^)]+)\\)\", name)\n",
    "    if tmp:\n",
    "        name = tmp[1]\n",
    "    name = re.sub(\"(Miss\\. |Mrs\\. |Ms\\. )\", \"\", name)\n",
    "    name = name.split(\" \")[0].replace(\"\\\"\", \"\")\n",
    "    return name"
   ]
  },
  {
   "cell_type": "code",
   "execution_count": 9,
   "metadata": {},
   "outputs": [],
   "source": [
    "assignment_6 = data[data['Sex'] == \"female\"]['Name'].map(cleanup).mode()[0]\n",
    "do_output(6, f\"{assignment_6}\")"
   ]
  },
  {
   "cell_type": "code",
   "execution_count": null,
   "metadata": {},
   "outputs": [],
   "source": []
  }
 ],
 "metadata": {
  "kernelspec": {
   "display_name": "Python 3",
   "language": "python",
   "name": "python3"
  },
  "language_info": {
   "codemirror_mode": {
    "name": "ipython",
    "version": 3
   },
   "file_extension": ".py",
   "mimetype": "text/x-python",
   "name": "python",
   "nbconvert_exporter": "python",
   "pygments_lexer": "ipython3",
   "version": "3.7.3"
  }
 },
 "nbformat": 4,
 "nbformat_minor": 4
}
